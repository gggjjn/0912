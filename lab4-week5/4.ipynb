{
 "cells": [
  {
   "cell_type": "markdown",
   "metadata": {},
   "source": [
    "希尔排序的时间复杂度取决于间隔序列的选择。通常情况下，希尔排序的平均时间复杂度在O(n^1.5)到O(n^2)之间。最坏情况下的时间复杂度为O(n^2)，发生在间隔序列不好的情况下。最好情况下的时间复杂度可以接近O(n)。\n",
    "希尔排序只需要常量级的额外空间用于临时变量，因此空间复杂度为O(1)。"
   ]
  }
 ],
 "metadata": {
  "language_info": {
   "name": "python"
  }
 },
 "nbformat": 4,
 "nbformat_minor": 2
}
