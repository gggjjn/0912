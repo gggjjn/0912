{
 "cells": [
  {
   "cell_type": "markdown",
   "metadata": {},
   "source": [
    "新建一个用户，再新建一个数据库，赋予新用户可操作该数据库的所有权限："
   ]
  },
  {
   "cell_type": "code",
   "execution_count": null,
   "metadata": {
    "vscode": {
     "languageId": "sql"
    }
   },
   "outputs": [],
   "source": [
    "CREATE USER 'new_user'@'localhost' IDENTIFIED BY 'password';\n",
    "CREATE DATABASE new_database;\n",
    "GRANT ALL PRIVILEGES ON new_database.* TO 'new_user'@'localhost';\n",
    "FLUSH PRIVILEGES;\n"
   ]
  },
  {
   "cell_type": "markdown",
   "metadata": {},
   "source": [
    "在新数据库中新建一张user表，插入几条数据："
   ]
  },
  {
   "cell_type": "code",
   "execution_count": null,
   "metadata": {
    "vscode": {
     "languageId": "sql"
    }
   },
   "outputs": [],
   "source": [
    "USE new_database;\n",
    "\n",
    "CREATE TABLE user (\n",
    "    id INT PRIMARY KEY,\n",
    "    name VARCHAR(255),\n",
    "    sex VARCHAR(10),\n",
    "    age INT,\n",
    "    phone VARCHAR(20)\n",
    ");\n",
    "\n",
    "INSERT INTO user (id, name, sex, age, phone) VALUES\n",
    "    (1, 'John', 'Male', 25, '1234567890'),\n",
    "    (2, 'Jane', 'Female', 22, '9876543210'),\n",
    "    (3, '张三', 'Male', 30, '5555555555');\n"
   ]
  },
  {
   "cell_type": "markdown",
   "metadata": {},
   "source": [
    "查询user表中所有年龄在20到30范围内的用户："
   ]
  },
  {
   "cell_type": "code",
   "execution_count": null,
   "metadata": {
    "vscode": {
     "languageId": "sql"
    }
   },
   "outputs": [],
   "source": [
    "SELECT * FROM user WHERE age BETWEEN 20 AND 30;\n"
   ]
  },
  {
   "cell_type": "markdown",
   "metadata": {},
   "source": [
    "删除user表中名字包含“张”的用户："
   ]
  },
  {
   "cell_type": "code",
   "execution_count": null,
   "metadata": {
    "vscode": {
     "languageId": "sql"
    }
   },
   "outputs": [],
   "source": [
    "DELETE FROM user WHERE name LIKE '%张%';\n"
   ]
  },
  {
   "cell_type": "markdown",
   "metadata": {},
   "source": [
    "计算user表中所有用户的平均年龄："
   ]
  },
  {
   "cell_type": "code",
   "execution_count": null,
   "metadata": {
    "vscode": {
     "languageId": "sql"
    }
   },
   "outputs": [],
   "source": [
    "SELECT AVG(age) AS average_age FROM user;\n"
   ]
  },
  {
   "cell_type": "markdown",
   "metadata": {},
   "source": [
    "查询user表中年龄在20到30范围内，名字包含“张”的用户，并按照年龄从大到小排序输出："
   ]
  },
  {
   "cell_type": "code",
   "execution_count": null,
   "metadata": {
    "vscode": {
     "languageId": "sql"
    }
   },
   "outputs": [],
   "source": [
    "SELECT * FROM user WHERE age BETWEEN 20 AND 30 AND name LIKE '%张%' ORDER BY age DESC;\n"
   ]
  },
  {
   "cell_type": "markdown",
   "metadata": {},
   "source": [
    "新建两张表team（id, teamName）和score（id, teamid, userid, score）："
   ]
  },
  {
   "cell_type": "code",
   "execution_count": null,
   "metadata": {
    "vscode": {
     "languageId": "sql"
    }
   },
   "outputs": [],
   "source": [
    "CREATE TABLE team (\n",
    "    id INT PRIMARY KEY,\n",
    "    teamName VARCHAR(255)\n",
    ");\n",
    "\n",
    "CREATE TABLE score (\n",
    "    id INT PRIMARY KEY,\n",
    "    teamid INT,\n",
    "    userid INT,\n",
    "    score INT,\n",
    "    FOREIGN KEY (teamid) REFERENCES team(id),\n",
    "    FOREIGN KEY (userid) REFERENCES user(id)\n",
    ");\n"
   ]
  },
  {
   "cell_type": "markdown",
   "metadata": {},
   "source": [
    "查询teamName为“ECNU”的队伍中，年龄小于20的用户们："
   ]
  },
  {
   "cell_type": "code",
   "execution_count": null,
   "metadata": {
    "vscode": {
     "languageId": "sql"
    }
   },
   "outputs": [],
   "source": [
    "SELECT u.* FROM user u\n",
    "JOIN score s ON u.id = s.userid\n",
    "JOIN team t ON s.teamid = t.id\n",
    "WHERE t.teamName = 'ECNU' AND u.age < 20;\n"
   ]
  },
  {
   "cell_type": "markdown",
   "metadata": {},
   "source": [
    "计算teamName为“ECNU”的总分（假设score存在null值，默认为0加入计算）："
   ]
  },
  {
   "cell_type": "code",
   "execution_count": null,
   "metadata": {
    "vscode": {
     "languageId": "sql"
    }
   },
   "outputs": [],
   "source": [
    "SELECT teamName, COALESCE(SUM(score), 0) AS total_score\n",
    "FROM team t\n",
    "LEFT JOIN score s ON t.id = s.teamid\n",
    "WHERE t.teamName = 'ECNU'\n",
    "GROUP BY teamName;\n"
   ]
  }
 ],
 "metadata": {
  "language_info": {
   "name": "python"
  }
 },
 "nbformat": 4,
 "nbformat_minor": 2
}
